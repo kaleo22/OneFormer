{
 "cells": [
  {
   "cell_type": "code",
   "execution_count": null,
   "id": "c7e0698b",
   "metadata": {},
   "outputs": [],
   "source": [
    "from defaults import DefaultPredictor\n",
    "import torch\n",
    "from detectron2.data import MetadataCatalog\n",
    "from oneformer import (\n",
    "    add_oneformer_config,\n",
    "    add_common_config,\n",
    "    add_swin_config,\n",
    "    add_dinat_config,\n",
    "    add_convnext_config,\n",
    ")\n",
    "from detectron2.config import get_cfg\n",
    "from detectron2.data.detection_utils import read_image\n",
    "from detectron2.projects.deeplab import add_deeplab_config\n",
    "from detectron2.utils.logger import setup_logger"
   ]
  },
  {
   "cell_type": "code",
   "execution_count": null,
   "id": "bcedf903",
   "metadata": {},
   "outputs": [],
   "source": [
    "def setup_cfg(args):\n",
    "    # load config from file and command-line arguments\n",
    "    cfg = get_cfg()\n",
    "    add_deeplab_config(cfg)\n",
    "    add_common_config(cfg)\n",
    "    add_swin_config(cfg)\n",
    "    add_dinat_config(cfg)\n",
    "    add_convnext_config(cfg)\n",
    "    add_oneformer_config(cfg)\n",
    "    cfg.merge_from_file(args.config_file)\n",
    "    cfg.merge_from_list(args.opts)\n",
    "    cfg.freeze()\n",
    "    return cfg\n",
    "\n",
    "class inference(object):\n",
    "    def __init__(self, cfg):\n",
    "        self.predictor = DefaultPredictor(cfg)\n",
    "        self.metadata = MetadataCatalog.get(self.predictor.cfg.DATASETS.TEST[0])\n",
    "\n",
    "    def run(self, image):\n",
    "        image = image[:, :, ::-1]\n",
    "        outputs = self.predictor(image, task='instance')\n",
    "        return outputs\n",
    "\n",
    "    def get_metadata(self):\n",
    "        return self.metadata\n",
    "    \n",
    "if __name__ == \"__main__\":\n",
    "    "
   ]
  }
 ],
 "metadata": {
  "kernelspec": {
   "display_name": "oneformer",
   "language": "python",
   "name": "python3"
  },
  "language_info": {
   "name": "python",
   "version": "3.8.20"
  }
 },
 "nbformat": 4,
 "nbformat_minor": 5
}
